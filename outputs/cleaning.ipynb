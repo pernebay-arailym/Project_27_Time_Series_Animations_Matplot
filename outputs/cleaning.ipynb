{
 "cells": [
  {
   "cell_type": "code",
   "execution_count": 11,
   "metadata": {},
   "outputs": [
    {
     "name": "stderr",
     "output_type": "stream",
     "text": [
      "/var/folders/gq/7dg3c7l94qlg58qtq22rkz1w0000gn/T/ipykernel_18342/516638727.py:2: DtypeWarning: Columns (2,3,4,7) have mixed types. Specify dtype option on import or set low_memory=False.\n",
      "  df= pd.read_csv('/Users/pernebayarailym/Documents/Portfolio Projects AP/Python Projects/Project_27_Time_Series_Animations_Matplot/data/un-country-data.csv')\n"
     ]
    },
    {
     "data": {
      "text/html": [
       "<div>\n",
       "<style scoped>\n",
       "    .dataframe tbody tr th:only-of-type {\n",
       "        vertical-align: middle;\n",
       "    }\n",
       "\n",
       "    .dataframe tbody tr th {\n",
       "        vertical-align: top;\n",
       "    }\n",
       "\n",
       "    .dataframe thead th {\n",
       "        text-align: right;\n",
       "    }\n",
       "</style>\n",
       "<table border=\"1\" class=\"dataframe\">\n",
       "  <thead>\n",
       "    <tr style=\"text-align: right;\">\n",
       "      <th></th>\n",
       "      <th>ISO3_code</th>\n",
       "      <th>Location</th>\n",
       "      <th>Time</th>\n",
       "      <th>TPopulation1Jan</th>\n",
       "      <th>TPopulation1July</th>\n",
       "    </tr>\n",
       "  </thead>\n",
       "  <tbody>\n",
       "    <tr>\n",
       "      <th>44384</th>\n",
       "      <td>BDI</td>\n",
       "      <td>Burundi</td>\n",
       "      <td>1950</td>\n",
       "      <td>2229.322</td>\n",
       "      <td>2254.938</td>\n",
       "    </tr>\n",
       "    <tr>\n",
       "      <th>44385</th>\n",
       "      <td>BDI</td>\n",
       "      <td>Burundi</td>\n",
       "      <td>1951</td>\n",
       "      <td>2280.554</td>\n",
       "      <td>2305.746</td>\n",
       "    </tr>\n",
       "    <tr>\n",
       "      <th>44386</th>\n",
       "      <td>BDI</td>\n",
       "      <td>Burundi</td>\n",
       "      <td>1952</td>\n",
       "      <td>2330.938</td>\n",
       "      <td>2355.804</td>\n",
       "    </tr>\n",
       "    <tr>\n",
       "      <th>44387</th>\n",
       "      <td>BDI</td>\n",
       "      <td>Burundi</td>\n",
       "      <td>1953</td>\n",
       "      <td>2380.670</td>\n",
       "      <td>2405.186</td>\n",
       "    </tr>\n",
       "    <tr>\n",
       "      <th>44388</th>\n",
       "      <td>BDI</td>\n",
       "      <td>Burundi</td>\n",
       "      <td>1954</td>\n",
       "      <td>2429.703</td>\n",
       "      <td>2454.586</td>\n",
       "    </tr>\n",
       "  </tbody>\n",
       "</table>\n",
       "</div>"
      ],
      "text/plain": [
       "      ISO3_code Location  Time  TPopulation1Jan  TPopulation1July\n",
       "44384       BDI  Burundi  1950         2229.322          2254.938\n",
       "44385       BDI  Burundi  1951         2280.554          2305.746\n",
       "44386       BDI  Burundi  1952         2330.938          2355.804\n",
       "44387       BDI  Burundi  1953         2380.670          2405.186\n",
       "44388       BDI  Burundi  1954         2429.703          2454.586"
      ]
     },
     "execution_count": 11,
     "metadata": {},
     "output_type": "execute_result"
    }
   ],
   "source": [
    "import pandas as pd\n",
    "df= pd.read_csv('/Users/pernebayarailym/Documents/Portfolio Projects AP/Python Projects/Project_27_Time_Series_Animations_Matplot/data/un-country-data.csv')\n",
    "\n",
    "countries = df[df['ISO3_code'].notnull()]\n",
    "\n",
    "columns = ['ISO3_code', 'Location', 'Time', 'TPopulation1Jan', 'TPopulation1July']\n",
    "\n",
    "clean_df=countries[columns]\n",
    "\n",
    "clean_df.head()\n"
   ]
  },
  {
   "cell_type": "code",
   "execution_count": null,
   "metadata": {},
   "outputs": [],
   "source": []
  },
  {
   "cell_type": "code",
   "execution_count": null,
   "metadata": {},
   "outputs": [],
   "source": []
  }
 ],
 "metadata": {
  "kernelspec": {
   "display_name": "base",
   "language": "python",
   "name": "python3"
  },
  "language_info": {
   "codemirror_mode": {
    "name": "ipython",
    "version": 3
   },
   "file_extension": ".py",
   "mimetype": "text/x-python",
   "name": "python",
   "nbconvert_exporter": "python",
   "pygments_lexer": "ipython3",
   "version": "3.11.5"
  }
 },
 "nbformat": 4,
 "nbformat_minor": 2
}
